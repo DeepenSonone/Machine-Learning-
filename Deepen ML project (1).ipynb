{
 "cells": [
  {
   "cell_type": "markdown",
   "id": "4363aa30-eb94-405a-b50c-7829babb54eb",
   "metadata": {},
   "source": [
    "# Project Name: Loan Status Prediction"
   ]
  },
  {
   "cell_type": "markdown",
   "id": "a9024ff0-5e2e-4dec-b4ed-825e6211812f",
   "metadata": {},
   "source": [
    "\n",
    "The following are variables in the Dataset:\n",
    "\n",
    "- Loan_ID: A unique loan ID.\n",
    "- Gender: Either male or female.\n",
    "- Married: Weather Married(yes) or Not Marttied(No).\n",
    "- Dependents: Number of persons depending on the client.\n",
    "- Education: Applicant Education(Graduate or Undergraduate).\n",
    "- Self_Employed: Self-employed (Yes/No).\n",
    "- Applicant Income: Applicant income.\n",
    "- CoapplicantIncome: Co-applicant income.\n",
    "- LoanAmount: Loan amount in thousands.\n",
    "- Loan_Amount_Term: The terms of the loan are in months.\n",
    "- Credit_History: Credit history meets guidelines.\n",
    "- Property_Area: Applicants are living either Urban, Semi-Urban or Rural.\n",
    "- Loan_Status: Loan approved (Y/N).\n"
   ]
  },
  {
   "cell_type": "markdown",
   "id": "fdbacf04-f4a4-4d27-803d-030ceb711f19",
   "metadata": {},
   "source": [
    "# Data Reading and Reviewing"
   ]
  },
  {
   "cell_type": "code",
   "execution_count": null,
   "id": "83eca3e4-3722-4ec6-975e-0bb41529bcce",
   "metadata": {},
   "outputs": [],
   "source": []
  },
  {
   "cell_type": "code",
   "execution_count": 1,
   "id": "91d89228-ecf9-4993-bddc-891b7c021aae",
   "metadata": {},
   "outputs": [],
   "source": [
    "import pandas as pd"
   ]
  },
  {
   "cell_type": "code",
   "execution_count": 2,
   "id": "49dcaf5d-f7b9-4464-a118-eecf1eb6686a",
   "metadata": {},
   "outputs": [
    {
     "data": {
      "text/html": [
       "<div>\n",
       "<style scoped>\n",
       "    .dataframe tbody tr th:only-of-type {\n",
       "        vertical-align: middle;\n",
       "    }\n",
       "\n",
       "    .dataframe tbody tr th {\n",
       "        vertical-align: top;\n",
       "    }\n",
       "\n",
       "    .dataframe thead th {\n",
       "        text-align: right;\n",
       "    }\n",
       "</style>\n",
       "<table border=\"1\" class=\"dataframe\">\n",
       "  <thead>\n",
       "    <tr style=\"text-align: right;\">\n",
       "      <th></th>\n",
       "      <th>Loan_ID</th>\n",
       "      <th>Gender</th>\n",
       "      <th>Married</th>\n",
       "      <th>Dependents</th>\n",
       "      <th>Education</th>\n",
       "      <th>Self_Employed</th>\n",
       "      <th>ApplicantIncome</th>\n",
       "      <th>CoapplicantIncome</th>\n",
       "      <th>LoanAmount</th>\n",
       "      <th>Loan_Amount_Term</th>\n",
       "      <th>Credit_History</th>\n",
       "      <th>Property_Area</th>\n",
       "      <th>Loan_Status</th>\n",
       "    </tr>\n",
       "  </thead>\n",
       "  <tbody>\n",
       "    <tr>\n",
       "      <th>0</th>\n",
       "      <td>LP001003</td>\n",
       "      <td>Male</td>\n",
       "      <td>Yes</td>\n",
       "      <td>1</td>\n",
       "      <td>Graduate</td>\n",
       "      <td>No</td>\n",
       "      <td>4583</td>\n",
       "      <td>1508.0</td>\n",
       "      <td>128.0</td>\n",
       "      <td>360.0</td>\n",
       "      <td>1.0</td>\n",
       "      <td>Rural</td>\n",
       "      <td>N</td>\n",
       "    </tr>\n",
       "    <tr>\n",
       "      <th>1</th>\n",
       "      <td>LP001005</td>\n",
       "      <td>Male</td>\n",
       "      <td>Yes</td>\n",
       "      <td>0</td>\n",
       "      <td>Graduate</td>\n",
       "      <td>Yes</td>\n",
       "      <td>3000</td>\n",
       "      <td>0.0</td>\n",
       "      <td>66.0</td>\n",
       "      <td>360.0</td>\n",
       "      <td>1.0</td>\n",
       "      <td>Urban</td>\n",
       "      <td>Y</td>\n",
       "    </tr>\n",
       "    <tr>\n",
       "      <th>2</th>\n",
       "      <td>LP001006</td>\n",
       "      <td>Male</td>\n",
       "      <td>Yes</td>\n",
       "      <td>0</td>\n",
       "      <td>Not Graduate</td>\n",
       "      <td>No</td>\n",
       "      <td>2583</td>\n",
       "      <td>2358.0</td>\n",
       "      <td>120.0</td>\n",
       "      <td>360.0</td>\n",
       "      <td>1.0</td>\n",
       "      <td>Urban</td>\n",
       "      <td>Y</td>\n",
       "    </tr>\n",
       "    <tr>\n",
       "      <th>3</th>\n",
       "      <td>LP001008</td>\n",
       "      <td>Male</td>\n",
       "      <td>No</td>\n",
       "      <td>0</td>\n",
       "      <td>Graduate</td>\n",
       "      <td>No</td>\n",
       "      <td>6000</td>\n",
       "      <td>0.0</td>\n",
       "      <td>141.0</td>\n",
       "      <td>360.0</td>\n",
       "      <td>1.0</td>\n",
       "      <td>Urban</td>\n",
       "      <td>Y</td>\n",
       "    </tr>\n",
       "    <tr>\n",
       "      <th>4</th>\n",
       "      <td>LP001013</td>\n",
       "      <td>Male</td>\n",
       "      <td>Yes</td>\n",
       "      <td>0</td>\n",
       "      <td>Not Graduate</td>\n",
       "      <td>No</td>\n",
       "      <td>2333</td>\n",
       "      <td>1516.0</td>\n",
       "      <td>95.0</td>\n",
       "      <td>360.0</td>\n",
       "      <td>1.0</td>\n",
       "      <td>Urban</td>\n",
       "      <td>Y</td>\n",
       "    </tr>\n",
       "    <tr>\n",
       "      <th>...</th>\n",
       "      <td>...</td>\n",
       "      <td>...</td>\n",
       "      <td>...</td>\n",
       "      <td>...</td>\n",
       "      <td>...</td>\n",
       "      <td>...</td>\n",
       "      <td>...</td>\n",
       "      <td>...</td>\n",
       "      <td>...</td>\n",
       "      <td>...</td>\n",
       "      <td>...</td>\n",
       "      <td>...</td>\n",
       "      <td>...</td>\n",
       "    </tr>\n",
       "    <tr>\n",
       "      <th>376</th>\n",
       "      <td>LP002953</td>\n",
       "      <td>Male</td>\n",
       "      <td>Yes</td>\n",
       "      <td>3+</td>\n",
       "      <td>Graduate</td>\n",
       "      <td>No</td>\n",
       "      <td>5703</td>\n",
       "      <td>0.0</td>\n",
       "      <td>128.0</td>\n",
       "      <td>360.0</td>\n",
       "      <td>1.0</td>\n",
       "      <td>Urban</td>\n",
       "      <td>Y</td>\n",
       "    </tr>\n",
       "    <tr>\n",
       "      <th>377</th>\n",
       "      <td>LP002974</td>\n",
       "      <td>Male</td>\n",
       "      <td>Yes</td>\n",
       "      <td>0</td>\n",
       "      <td>Graduate</td>\n",
       "      <td>No</td>\n",
       "      <td>3232</td>\n",
       "      <td>1950.0</td>\n",
       "      <td>108.0</td>\n",
       "      <td>360.0</td>\n",
       "      <td>1.0</td>\n",
       "      <td>Rural</td>\n",
       "      <td>Y</td>\n",
       "    </tr>\n",
       "    <tr>\n",
       "      <th>378</th>\n",
       "      <td>LP002978</td>\n",
       "      <td>Female</td>\n",
       "      <td>No</td>\n",
       "      <td>0</td>\n",
       "      <td>Graduate</td>\n",
       "      <td>No</td>\n",
       "      <td>2900</td>\n",
       "      <td>0.0</td>\n",
       "      <td>71.0</td>\n",
       "      <td>360.0</td>\n",
       "      <td>1.0</td>\n",
       "      <td>Rural</td>\n",
       "      <td>Y</td>\n",
       "    </tr>\n",
       "    <tr>\n",
       "      <th>379</th>\n",
       "      <td>LP002979</td>\n",
       "      <td>Male</td>\n",
       "      <td>Yes</td>\n",
       "      <td>3+</td>\n",
       "      <td>Graduate</td>\n",
       "      <td>No</td>\n",
       "      <td>4106</td>\n",
       "      <td>0.0</td>\n",
       "      <td>40.0</td>\n",
       "      <td>180.0</td>\n",
       "      <td>1.0</td>\n",
       "      <td>Rural</td>\n",
       "      <td>Y</td>\n",
       "    </tr>\n",
       "    <tr>\n",
       "      <th>380</th>\n",
       "      <td>LP002990</td>\n",
       "      <td>Female</td>\n",
       "      <td>No</td>\n",
       "      <td>0</td>\n",
       "      <td>Graduate</td>\n",
       "      <td>Yes</td>\n",
       "      <td>4583</td>\n",
       "      <td>0.0</td>\n",
       "      <td>133.0</td>\n",
       "      <td>360.0</td>\n",
       "      <td>0.0</td>\n",
       "      <td>Semiurban</td>\n",
       "      <td>N</td>\n",
       "    </tr>\n",
       "  </tbody>\n",
       "</table>\n",
       "<p>381 rows × 13 columns</p>\n",
       "</div>"
      ],
      "text/plain": [
       "      Loan_ID  Gender Married Dependents     Education Self_Employed  \\\n",
       "0    LP001003    Male     Yes          1      Graduate            No   \n",
       "1    LP001005    Male     Yes          0      Graduate           Yes   \n",
       "2    LP001006    Male     Yes          0  Not Graduate            No   \n",
       "3    LP001008    Male      No          0      Graduate            No   \n",
       "4    LP001013    Male     Yes          0  Not Graduate            No   \n",
       "..        ...     ...     ...        ...           ...           ...   \n",
       "376  LP002953    Male     Yes         3+      Graduate            No   \n",
       "377  LP002974    Male     Yes          0      Graduate            No   \n",
       "378  LP002978  Female      No          0      Graduate            No   \n",
       "379  LP002979    Male     Yes         3+      Graduate            No   \n",
       "380  LP002990  Female      No          0      Graduate           Yes   \n",
       "\n",
       "     ApplicantIncome  CoapplicantIncome  LoanAmount  Loan_Amount_Term  \\\n",
       "0               4583             1508.0       128.0             360.0   \n",
       "1               3000                0.0        66.0             360.0   \n",
       "2               2583             2358.0       120.0             360.0   \n",
       "3               6000                0.0       141.0             360.0   \n",
       "4               2333             1516.0        95.0             360.0   \n",
       "..               ...                ...         ...               ...   \n",
       "376             5703                0.0       128.0             360.0   \n",
       "377             3232             1950.0       108.0             360.0   \n",
       "378             2900                0.0        71.0             360.0   \n",
       "379             4106                0.0        40.0             180.0   \n",
       "380             4583                0.0       133.0             360.0   \n",
       "\n",
       "     Credit_History Property_Area Loan_Status  \n",
       "0               1.0         Rural           N  \n",
       "1               1.0         Urban           Y  \n",
       "2               1.0         Urban           Y  \n",
       "3               1.0         Urban           Y  \n",
       "4               1.0         Urban           Y  \n",
       "..              ...           ...         ...  \n",
       "376             1.0         Urban           Y  \n",
       "377             1.0         Rural           Y  \n",
       "378             1.0         Rural           Y  \n",
       "379             1.0         Rural           Y  \n",
       "380             0.0     Semiurban           N  \n",
       "\n",
       "[381 rows x 13 columns]"
      ]
     },
     "execution_count": 2,
     "metadata": {},
     "output_type": "execute_result"
    }
   ],
   "source": [
    "df=pd.read_csv(r'C:\\Users\\l\\Downloads\\Loan Status Prediction.csv')\n",
    "df"
   ]
  },
  {
   "cell_type": "markdown",
   "id": "a3631261-e86b-4025-9f16-11052815252b",
   "metadata": {},
   "source": [
    "Observation:\n",
    "\n",
    "- We can see that in the data Gender, Education, employment status and thier respective credit scores are most important variables to predict of the people are getting thier loans approved or not? i.e \n",
    "loan_status will be our target variable to predict"
   ]
  },
  {
   "cell_type": "code",
   "execution_count": null,
   "id": "0e7ae337-6cdb-412d-b485-159dca84b863",
   "metadata": {},
   "outputs": [],
   "source": []
  },
  {
   "cell_type": "markdown",
   "id": "ec7d57b7-9e05-4f36-8ce5-b97fe12a5562",
   "metadata": {},
   "source": [
    "# Data Cleaning"
   ]
  },
  {
   "cell_type": "code",
   "execution_count": null,
   "id": "7d0b5402-2524-4650-ad77-911872ddef92",
   "metadata": {},
   "outputs": [],
   "source": []
  },
  {
   "cell_type": "markdown",
   "id": "d727a417-07f6-4800-9b13-509876625e52",
   "metadata": {},
   "source": [
    "### Checking Datatype of Variables"
   ]
  },
  {
   "cell_type": "code",
   "execution_count": null,
   "id": "a65a6b82-a396-4705-a9ab-ed54910a08dd",
   "metadata": {},
   "outputs": [],
   "source": []
  },
  {
   "cell_type": "code",
   "execution_count": 4,
   "id": "f2cfaa6a-ff7f-4130-9ac1-cafac00bd84d",
   "metadata": {},
   "outputs": [
    {
     "data": {
      "text/plain": [
       "<bound method NDFrame.describe of       Loan_ID  Gender Married Dependents     Education Self_Employed  \\\n",
       "0    LP001003    Male     Yes          1      Graduate            No   \n",
       "1    LP001005    Male     Yes          0      Graduate           Yes   \n",
       "2    LP001006    Male     Yes          0  Not Graduate            No   \n",
       "3    LP001008    Male      No          0      Graduate            No   \n",
       "4    LP001013    Male     Yes          0  Not Graduate            No   \n",
       "..        ...     ...     ...        ...           ...           ...   \n",
       "376  LP002953    Male     Yes         3+      Graduate            No   \n",
       "377  LP002974    Male     Yes          0      Graduate            No   \n",
       "378  LP002978  Female      No          0      Graduate            No   \n",
       "379  LP002979    Male     Yes         3+      Graduate            No   \n",
       "380  LP002990  Female      No          0      Graduate           Yes   \n",
       "\n",
       "     ApplicantIncome  CoapplicantIncome  LoanAmount  Loan_Amount_Term  \\\n",
       "0               4583             1508.0       128.0             360.0   \n",
       "1               3000                0.0        66.0             360.0   \n",
       "2               2583             2358.0       120.0             360.0   \n",
       "3               6000                0.0       141.0             360.0   \n",
       "4               2333             1516.0        95.0             360.0   \n",
       "..               ...                ...         ...               ...   \n",
       "376             5703                0.0       128.0             360.0   \n",
       "377             3232             1950.0       108.0             360.0   \n",
       "378             2900                0.0        71.0             360.0   \n",
       "379             4106                0.0        40.0             180.0   \n",
       "380             4583                0.0       133.0             360.0   \n",
       "\n",
       "     Credit_History Property_Area Loan_Status  \n",
       "0               1.0         Rural           N  \n",
       "1               1.0         Urban           Y  \n",
       "2               1.0         Urban           Y  \n",
       "3               1.0         Urban           Y  \n",
       "4               1.0         Urban           Y  \n",
       "..              ...           ...         ...  \n",
       "376             1.0         Urban           Y  \n",
       "377             1.0         Rural           Y  \n",
       "378             1.0         Rural           Y  \n",
       "379             1.0         Rural           Y  \n",
       "380             0.0     Semiurban           N  \n",
       "\n",
       "[381 rows x 13 columns]>"
      ]
     },
     "execution_count": 4,
     "metadata": {},
     "output_type": "execute_result"
    }
   ],
   "source": [
    "df.describe"
   ]
  },
  {
   "cell_type": "code",
   "execution_count": null,
   "id": "204c34bf-62d2-42ea-924d-737ea8f219d8",
   "metadata": {},
   "outputs": [],
   "source": []
  },
  {
   "cell_type": "markdown",
   "id": "1656f987-2b19-4a27-b7e4-3ed5067c84bb",
   "metadata": {},
   "source": [
    "Observation:\n",
    "- Column 'Dependents' have some values in strings (3+) we have to convert them into numerical"
   ]
  },
  {
   "cell_type": "code",
   "execution_count": null,
   "id": "05896099-09fd-441d-adf3-f6ec93ce8091",
   "metadata": {},
   "outputs": [],
   "source": []
  },
  {
   "cell_type": "code",
   "execution_count": 34,
   "id": "6f0fbf65-7924-4adf-b04a-06ebf6cb4e7d",
   "metadata": {},
   "outputs": [
    {
     "name": "stdout",
     "output_type": "stream",
     "text": [
      "     Loan_ID  Gender  Married  Dependents  Education  Self_Employed  \\\n",
      "0          0       1        1           1          0              0   \n",
      "1          1       1        1           0          0              1   \n",
      "2          2       1        1           0          1              0   \n",
      "3          3       1        0           0          0              0   \n",
      "4          4       1        1           0          1              0   \n",
      "..       ...     ...      ...         ...        ...            ...   \n",
      "376      376       1        1           3          0              0   \n",
      "377      377       1        1           0          0              0   \n",
      "378      378       0        0           0          0              0   \n",
      "379      379       1        1           3          0              0   \n",
      "380      380       0        0           0          0              1   \n",
      "\n",
      "     ApplicantIncome  CoapplicantIncome  LoanAmount  Loan_Amount_Term  \\\n",
      "0               4583             1508.0       128.0             360.0   \n",
      "1               3000                0.0        66.0             360.0   \n",
      "2               2583             2358.0       120.0             360.0   \n",
      "3               6000                0.0       141.0             360.0   \n",
      "4               2333             1516.0        95.0             360.0   \n",
      "..               ...                ...         ...               ...   \n",
      "376             5703                0.0       128.0             360.0   \n",
      "377             3232             1950.0       108.0             360.0   \n",
      "378             2900                0.0        71.0             360.0   \n",
      "379             4106                0.0        40.0             180.0   \n",
      "380             4583                0.0       133.0             360.0   \n",
      "\n",
      "     Credit_History  Property_Area  Loan_Status  \n",
      "0               1.0              0            0  \n",
      "1               1.0              2            1  \n",
      "2               1.0              2            1  \n",
      "3               1.0              2            1  \n",
      "4               1.0              2            1  \n",
      "..              ...            ...          ...  \n",
      "376             1.0              2            1  \n",
      "377             1.0              0            1  \n",
      "378             1.0              0            1  \n",
      "379             1.0              0            1  \n",
      "380             0.0              1            0  \n",
      "\n",
      "[381 rows x 13 columns]\n"
     ]
    }
   ],
   "source": [
    "df['Dependents'] = df['Dependents'].replace('3+', 3)\n",
    "\n",
    "df['Dependents'] = pd.to_numeric(df['Dependents'])\n",
    "\n",
    "print(df)"
   ]
  },
  {
   "cell_type": "code",
   "execution_count": null,
   "id": "390c4fea-4ca1-4be8-a552-c1cbaa150ab0",
   "metadata": {},
   "outputs": [],
   "source": []
  },
  {
   "cell_type": "markdown",
   "id": "8445aa12-3e77-4b48-aae6-f5669365c19a",
   "metadata": {},
   "source": [
    "### Checking Null Values"
   ]
  },
  {
   "cell_type": "code",
   "execution_count": null,
   "id": "f5103c0d-72d7-4a36-99d4-c4ea20d202ae",
   "metadata": {},
   "outputs": [],
   "source": []
  },
  {
   "cell_type": "code",
   "execution_count": 5,
   "id": "77e9b05f-2c5f-496a-848c-6993c90d089c",
   "metadata": {
    "scrolled": true
   },
   "outputs": [
    {
     "data": {
      "text/plain": [
       "Loan_ID               0\n",
       "Gender                5\n",
       "Married               0\n",
       "Dependents            8\n",
       "Education             0\n",
       "Self_Employed        21\n",
       "ApplicantIncome       0\n",
       "CoapplicantIncome     0\n",
       "LoanAmount            0\n",
       "Loan_Amount_Term     11\n",
       "Credit_History       30\n",
       "Property_Area         0\n",
       "Loan_Status           0\n",
       "dtype: int64"
      ]
     },
     "execution_count": 5,
     "metadata": {},
     "output_type": "execute_result"
    }
   ],
   "source": [
    "df.isnull().sum()"
   ]
  },
  {
   "cell_type": "code",
   "execution_count": null,
   "id": "47bce901-18dd-4f04-ace9-60cfc41b51e7",
   "metadata": {},
   "outputs": [],
   "source": []
  },
  {
   "cell_type": "code",
   "execution_count": 6,
   "id": "dbda7230-a119-41fa-94fc-c7b651c4b6bf",
   "metadata": {},
   "outputs": [],
   "source": [
    "import pandas as pd\n",
    "import numpy as np"
   ]
  },
  {
   "cell_type": "code",
   "execution_count": 11,
   "id": "68f3aa77-5a92-49e8-99a6-b6766a8d845c",
   "metadata": {},
   "outputs": [
    {
     "name": "stdout",
     "output_type": "stream",
     "text": [
      "      Loan_ID  Gender Married Dependents     Education Self_Employed  \\\n",
      "0    LP001003    Male     Yes          1      Graduate            No   \n",
      "1    LP001005    Male     Yes          0      Graduate           Yes   \n",
      "2    LP001006    Male     Yes          0  Not Graduate            No   \n",
      "3    LP001008    Male      No          0      Graduate            No   \n",
      "4    LP001013    Male     Yes          0  Not Graduate            No   \n",
      "..        ...     ...     ...        ...           ...           ...   \n",
      "376  LP002953    Male     Yes         3+      Graduate            No   \n",
      "377  LP002974    Male     Yes          0      Graduate            No   \n",
      "378  LP002978  Female      No          0      Graduate            No   \n",
      "379  LP002979    Male     Yes         3+      Graduate            No   \n",
      "380  LP002990  Female      No          0      Graduate           Yes   \n",
      "\n",
      "     ApplicantIncome  CoapplicantIncome  LoanAmount  Loan_Amount_Term  \\\n",
      "0               4583             1508.0       128.0             360.0   \n",
      "1               3000                0.0        66.0             360.0   \n",
      "2               2583             2358.0       120.0             360.0   \n",
      "3               6000                0.0       141.0             360.0   \n",
      "4               2333             1516.0        95.0             360.0   \n",
      "..               ...                ...         ...               ...   \n",
      "376             5703                0.0       128.0             360.0   \n",
      "377             3232             1950.0       108.0             360.0   \n",
      "378             2900                0.0        71.0             360.0   \n",
      "379             4106                0.0        40.0             180.0   \n",
      "380             4583                0.0       133.0             360.0   \n",
      "\n",
      "     Credit_History Property_Area Loan_Status  \n",
      "0               1.0         Rural           N  \n",
      "1               1.0         Urban           Y  \n",
      "2               1.0         Urban           Y  \n",
      "3               1.0         Urban           Y  \n",
      "4               1.0         Urban           Y  \n",
      "..              ...           ...         ...  \n",
      "376             1.0         Urban           Y  \n",
      "377             1.0         Rural           Y  \n",
      "378             1.0         Rural           Y  \n",
      "379             1.0         Rural           Y  \n",
      "380             0.0     Semiurban           N  \n",
      "\n",
      "[381 rows x 13 columns]\n"
     ]
    }
   ],
   "source": [
    "df['Dependents'] = df.groupby('Married')['Dependents'].transform(lambda x: x.fillna(x.mode()[0] if not x.mode().empty else x.dropna().max()))\n",
    "df['Loan_Amount_Term'] = df.groupby(['Education', 'Property_Area'])['Loan_Amount_Term'].transform(lambda x: x.fillna(x.median()))\n",
    "df['Credit_History'] = df.groupby('Property_Area')['Credit_History'].transform(lambda x: x.fillna(x.mode()[0] if not x.mode().empty else 0))\n",
    "\n",
    "mode_gender = df['Gender'].mode()[0]\n",
    "mode_self_employed = df['Self_Employed'].mode()[0]\n",
    "\n",
    "df['Gender'].fillna(mode_gender, inplace=True)\n",
    "df['Self_Employed'].fillna(mode_self_employed, inplace=True)\n",
    "\n",
    "print(df)\n"
   ]
  },
  {
   "cell_type": "code",
   "execution_count": null,
   "id": "cda3727f-3fc5-456c-b58f-95d65043aa80",
   "metadata": {},
   "outputs": [],
   "source": []
  },
  {
   "cell_type": "code",
   "execution_count": 12,
   "id": "1f0cdf8d-4227-43ae-ab33-7b7676887a8f",
   "metadata": {},
   "outputs": [
    {
     "data": {
      "text/plain": [
       "Loan_ID              0\n",
       "Gender               0\n",
       "Married              0\n",
       "Dependents           0\n",
       "Education            0\n",
       "Self_Employed        0\n",
       "ApplicantIncome      0\n",
       "CoapplicantIncome    0\n",
       "LoanAmount           0\n",
       "Loan_Amount_Term     0\n",
       "Credit_History       0\n",
       "Property_Area        0\n",
       "Loan_Status          0\n",
       "dtype: int64"
      ]
     },
     "execution_count": 12,
     "metadata": {},
     "output_type": "execute_result"
    }
   ],
   "source": [
    "df.isnull().sum()"
   ]
  },
  {
   "cell_type": "code",
   "execution_count": null,
   "id": "8aca4428-dbba-46e4-a401-3b53396a4474",
   "metadata": {},
   "outputs": [],
   "source": []
  },
  {
   "cell_type": "markdown",
   "id": "9acf7395-2f6a-4a93-869d-59b60f5fb114",
   "metadata": {},
   "source": [
    "Obversation:\n",
    "- Dataset has many columns and rows with categorical data and we have to convert them into numerical using label encoding method, and also Dependents, Loan_Amount_Term, Credit_History, Gender and Self_Employed columns had missing values. By using the mean, mode and median imputers we have filled the missing values and Data is clean now."
   ]
  },
  {
   "cell_type": "markdown",
   "id": "d68e0b9f-31b3-4bd0-844b-ece0145d1119",
   "metadata": {},
   "source": [
    "# Label Encoding"
   ]
  },
  {
   "cell_type": "code",
   "execution_count": null,
   "id": "c99173c0-9582-4e66-91e3-d58aee927b30",
   "metadata": {},
   "outputs": [],
   "source": []
  },
  {
   "cell_type": "code",
   "execution_count": 21,
   "id": "2594d4fe-39a9-4eb7-89e7-7ec9e4a9b293",
   "metadata": {},
   "outputs": [],
   "source": [
    "import pandas as pd\n",
    "from sklearn.preprocessing import LabelEncoder"
   ]
  },
  {
   "cell_type": "code",
   "execution_count": 31,
   "id": "5e68bc81-0bde-4eb4-aabf-d425e4b93fd8",
   "metadata": {},
   "outputs": [],
   "source": [
    "label_encoder = LabelEncoder()\n",
    "\n",
    "columns_to_encode = ['Gender', 'Married', 'Education', 'Self_Employed','Property_Area', 'Loan_Status', 'Loan_ID']\n",
    "\n",
    "for column in columns_to_encode:\n",
    "    df[column] = label_encoder.fit_transform(df[column])"
   ]
  },
  {
   "cell_type": "code",
   "execution_count": 32,
   "id": "1ee9c5fe-39e0-430b-b4d1-5b7bca07392f",
   "metadata": {},
   "outputs": [
    {
     "name": "stdout",
     "output_type": "stream",
     "text": [
      "     Loan_ID  Gender  Married Dependents  Education  Self_Employed  \\\n",
      "0          0       1        1          1          0              0   \n",
      "1          1       1        1          0          0              1   \n",
      "2          2       1        1          0          1              0   \n",
      "3          3       1        0          0          0              0   \n",
      "4          4       1        1          0          1              0   \n",
      "..       ...     ...      ...        ...        ...            ...   \n",
      "376      376       1        1         3+          0              0   \n",
      "377      377       1        1          0          0              0   \n",
      "378      378       0        0          0          0              0   \n",
      "379      379       1        1         3+          0              0   \n",
      "380      380       0        0          0          0              1   \n",
      "\n",
      "     ApplicantIncome  CoapplicantIncome  LoanAmount  Loan_Amount_Term  \\\n",
      "0               4583             1508.0       128.0             360.0   \n",
      "1               3000                0.0        66.0             360.0   \n",
      "2               2583             2358.0       120.0             360.0   \n",
      "3               6000                0.0       141.0             360.0   \n",
      "4               2333             1516.0        95.0             360.0   \n",
      "..               ...                ...         ...               ...   \n",
      "376             5703                0.0       128.0             360.0   \n",
      "377             3232             1950.0       108.0             360.0   \n",
      "378             2900                0.0        71.0             360.0   \n",
      "379             4106                0.0        40.0             180.0   \n",
      "380             4583                0.0       133.0             360.0   \n",
      "\n",
      "     Credit_History  Property_Area  Loan_Status  \n",
      "0               1.0              0            0  \n",
      "1               1.0              2            1  \n",
      "2               1.0              2            1  \n",
      "3               1.0              2            1  \n",
      "4               1.0              2            1  \n",
      "..              ...            ...          ...  \n",
      "376             1.0              2            1  \n",
      "377             1.0              0            1  \n",
      "378             1.0              0            1  \n",
      "379             1.0              0            1  \n",
      "380             0.0              1            0  \n",
      "\n",
      "[381 rows x 13 columns]\n"
     ]
    }
   ],
   "source": [
    "print(df)"
   ]
  },
  {
   "cell_type": "code",
   "execution_count": null,
   "id": "cd14b93c-a5cd-4a0e-bb2d-319a3f1ea3d0",
   "metadata": {},
   "outputs": [],
   "source": []
  },
  {
   "cell_type": "markdown",
   "id": "a3d7f861-608e-457a-9611-a18cf66d6d4f",
   "metadata": {},
   "source": [
    "Observation:\n",
    "- Many columns in dataset like 'Gender', 'Married', 'Education', 'Self_Employed','Property_Area', 'Loan_Status', 'Loan_ID' had categorical values  by using label incoding the values are turned into numerical"
   ]
  },
  {
   "cell_type": "code",
   "execution_count": null,
   "id": "96a6e1e1-62ac-45f8-8f89-a30e902986aa",
   "metadata": {},
   "outputs": [],
   "source": []
  },
  {
   "cell_type": "markdown",
   "id": "06b811cf-dd61-4b64-9ffa-64ab853d7128",
   "metadata": {},
   "source": [
    "# Exploratory Data Analysis"
   ]
  },
  {
   "cell_type": "markdown",
   "id": "4acf5ff1-ecda-4510-a266-d2c59e30c2f5",
   "metadata": {},
   "source": [
    "### 1. Histograms and Box Plots"
   ]
  },
  {
   "cell_type": "code",
   "execution_count": 15,
   "id": "60e0293d-898e-4dae-89fb-21378d4526b3",
   "metadata": {},
   "outputs": [
    {
     "data": {
      "image/png": "[encoded data removed]",
      "text/plain": [
       "<Figure size 640x480 with 1 Axes>"
      ]
     },
     "metadata": {},
     "output_type": "display_data"
    },
    {
     "data": {
      "image/png": "[encoded data removed]",
      "text/plain": [
       "<Figure size 640x480 with 1 Axes>"
      ]
     },
     "metadata": {},
     "output_type": "display_data"
    }
   ],
   "source": [
    "import pandas as pd\n",
    "import matplotlib.pyplot as plt\n",
    "\n",
    "df['ApplicantIncome'].hist(bins=50)\n",
    "plt.title('Histogram of ApplicantIncome')\n",
    "plt.xlabel('ApplicantIncome')\n",
    "plt.ylabel('Loan_Status')\n",
    "plt.show()\n",
    "\n",
    "df.boxplot(column='ApplicantIncome')\n",
    "plt.title('Box Plot of ApplicantIncome')\n",
    "plt.xlabel('ApplicantIncome')\n",
    "plt.ylabel('Loan_Status')\n",
    "plt.show()"
   ]
  },
  {
   "cell_type": "code",
   "execution_count": null,
   "id": "372cbc37-484d-454d-ad6e-f5ebf4fe34e0",
   "metadata": {},
   "outputs": [],
   "source": []
  },
  {
   "cell_type": "markdown",
   "id": "32f7be09-1131-45da-ac03-57116ed16cff",
   "metadata": {},
   "source": [
    "Observation: \n",
    "- After using histplot and Box Plot we can observe that applicants with income of more than 6000 are the significant outliers in our data"
   ]
  },
  {
   "cell_type": "code",
   "execution_count": null,
   "id": "946af061-93ed-42af-9ff5-0a56aa254e4a",
   "metadata": {},
   "outputs": [],
   "source": []
  },
  {
   "cell_type": "markdown",
   "id": "38e38378-10ff-45fa-9568-324a72be22ca",
   "metadata": {},
   "source": [
    "### Checking Skewness"
   ]
  },
  {
   "cell_type": "code",
   "execution_count": null,
   "id": "a214388c-07a8-490f-b53f-1fca8bd42f89",
   "metadata": {},
   "outputs": [],
   "source": []
  },
  {
   "cell_type": "code",
   "execution_count": 35,
   "id": "30e7364b-ed28-4673-94a9-964de6d3a172",
   "metadata": {
    "scrolled": true
   },
   "outputs": [
    {
     "name": "stdout",
     "output_type": "stream",
     "text": [
      "Loan_ID              0.000000\n",
      "Gender              -1.335495\n",
      "Married             -0.403147\n",
      "Dependents           1.169190\n",
      "Education            1.038274\n",
      "Self_Employed        2.837288\n",
      "ApplicantIncome      1.119751\n",
      "CoapplicantIncome    8.660692\n",
      "LoanAmount          -0.804282\n",
      "Loan_Amount_Term    -2.253633\n",
      "Credit_History      -1.972497\n",
      "Property_Area       -0.091709\n",
      "Loan_Status         -0.936181\n",
      "dtype: float64\n"
     ]
    }
   ],
   "source": [
    "skewness = df.skew()\n",
    "print(skewness)"
   ]
  },
  {
   "cell_type": "code",
   "execution_count": null,
   "id": "a6d41bfa-d2bb-490e-900b-8c9b748c7b0e",
   "metadata": {},
   "outputs": [],
   "source": []
  },
  {
   "cell_type": "markdown",
   "id": "5ed71f5d-49b9-4b30-a0f6-74db4991f2f4",
   "metadata": {},
   "source": [
    "Observation:\n",
    "- We can see numerical columns like  ApplicantIncome, CoapplicantIncome, Dependents, and Loan_Amount_Term. have higher skewness "
   ]
  },
  {
   "cell_type": "code",
   "execution_count": null,
   "id": "f0b40f26-bd85-4114-8338-7a2360470017",
   "metadata": {},
   "outputs": [],
   "source": []
  },
  {
   "cell_type": "markdown",
   "id": "c8af3a3f-fda6-4dca-9567-65fedcc0e7d3",
   "metadata": {},
   "source": [
    "### Handling Skewness"
   ]
  },
  {
   "cell_type": "markdown",
   "id": "20961e69-bca0-4f7f-baa8-a80239e2a832",
   "metadata": {},
   "source": [
    "#### 1. Log Transformation: for  ApplicantIncome, CoapplicantIncome, Dependents, and Loan_Amount_Term.\n"
   ]
  },
  {
   "cell_type": "code",
   "execution_count": null,
   "id": "433f6e3c-d460-459f-a1a5-df6adfd3410b",
   "metadata": {},
   "outputs": [],
   "source": []
  },
  {
   "cell_type": "code",
   "execution_count": 37,
   "id": "945e0e43-b668-47a4-9782-a7dae10ac5c2",
   "metadata": {},
   "outputs": [],
   "source": [
    "import numpy as np\n",
    "\n",
    "df['ApplicantIncome_log'] = np.log(df['ApplicantIncome'] + 1)\n",
    "df['CoapplicantIncome_log'] = np.log(df['CoapplicantIncome'] + 1)\n",
    "df['LoanAmount_log'] = np.log(df['LoanAmount'] + 1)\n",
    "df['Dependents_log'] = np.log(df['Dependents'] + 1)"
   ]
  },
  {
   "cell_type": "code",
   "execution_count": 40,
   "id": "f6b38487-9124-4061-bd90-051c48ff5ab0",
   "metadata": {},
   "outputs": [
    {
     "name": "stdout",
     "output_type": "stream",
     "text": [
      "ApplicantIncome_log     -1.642001\n",
      "CoapplicantIncome_log   -0.120231\n",
      "LoanAmount_log          -2.181560\n",
      "Dependents_log           0.852382\n",
      "dtype: float64\n"
     ]
    }
   ],
   "source": [
    "New_skewness = df[['ApplicantIncome_log', 'CoapplicantIncome_log', 'LoanAmount_log', 'Dependents_log']].skew()\n",
    "print(New_skewness)"
   ]
  },
  {
   "cell_type": "code",
   "execution_count": null,
   "id": "69adcbe7-1c6b-4bb4-b0c0-6a6aa5e7d746",
   "metadata": {},
   "outputs": [],
   "source": []
  },
  {
   "cell_type": "markdown",
   "id": "f4ede780-22e8-41b1-a0bd-06be3cf4d265",
   "metadata": {},
   "source": [
    "Observation:\n",
    "- We can see the skewness is quite balanced compared to before"
   ]
  },
  {
   "cell_type": "code",
   "execution_count": null,
   "id": "b2ae7836-18b2-4b30-8d72-684cc5eea2c3",
   "metadata": {},
   "outputs": [],
   "source": []
  },
  {
   "cell_type": "markdown",
   "id": "e4a7a1f9-5acf-4659-bccd-5afdebdfdbad",
   "metadata": {},
   "source": [
    "### Transformation of Old Variables in New"
   ]
  },
  {
   "cell_type": "code",
   "execution_count": null,
   "id": "da21b31e-56ac-48c9-b0a5-7cfc877419c8",
   "metadata": {},
   "outputs": [],
   "source": []
  },
  {
   "cell_type": "code",
   "execution_count": 42,
   "id": "b21ba522-7e77-4e8a-9749-5b0b85569526",
   "metadata": {},
   "outputs": [],
   "source": [
    "df['ApplicantIncome'] = df['ApplicantIncome_log']\n",
    "df['CoapplicantIncome'] = df['CoapplicantIncome_log']\n",
    "df['LoanAmount'] = df['LoanAmount_log']\n",
    "df['Dependents'] = df['Dependents_log']\n",
    "\n",
    "df.drop(['ApplicantIncome_log', 'CoapplicantIncome_log', 'LoanAmount_log', 'Dependents_log'], axis=1, inplace=True)"
   ]
  },
  {
   "cell_type": "code",
   "execution_count": null,
   "id": "e1829802-768f-4b5f-9254-2cb0c7cf0358",
   "metadata": {},
   "outputs": [],
   "source": []
  },
  {
   "cell_type": "markdown",
   "id": "5b9ca924-309f-4226-838d-e123e5a20141",
   "metadata": {},
   "source": [
    "# Data Preprocessing for Model Building\n"
   ]
  },
  {
   "cell_type": "markdown",
   "id": "1eac6c9c-b06a-436a-9d15-f1e5e9236cf4",
   "metadata": {},
   "source": [
    "### Splitting the Data to Get Training and Testing Data"
   ]
  },
  {
   "cell_type": "code",
   "execution_count": null,
   "id": "d9626540-7c3e-4f7d-a93a-60cf56471a9b",
   "metadata": {},
   "outputs": [],
   "source": []
  },
  {
   "cell_type": "code",
   "execution_count": 48,
   "id": "807bb836-14c0-4804-b2c6-20947624f425",
   "metadata": {},
   "outputs": [
    {
     "name": "stdout",
     "output_type": "stream",
     "text": [
      "   Gender  Married  Dependents  Education  Self_Employed  ApplicantIncome  \\\n",
      "0       1        1    0.693147          0              0         8.430327   \n",
      "1       1        1    0.000000          0              1         8.006701   \n",
      "2       1        1    0.000000          1              0         7.857094   \n",
      "3       1        0    0.000000          0              0         8.699681   \n",
      "4       1        1    0.000000          1              0         7.755339   \n",
      "\n",
      "   CoapplicantIncome  LoanAmount  Loan_Amount_Term  Credit_History  \\\n",
      "0           7.319202    4.859812             360.0             1.0   \n",
      "1           0.000000    4.204693             360.0             1.0   \n",
      "2           7.765993    4.795791             360.0             1.0   \n",
      "3           0.000000    4.955827             360.0             1.0   \n",
      "4           7.324490    4.564348             360.0             1.0   \n",
      "\n",
      "   Property_Area  \n",
      "0              0  \n",
      "1              2  \n",
      "2              2  \n",
      "3              2  \n",
      "4              2  \n"
     ]
    }
   ],
   "source": [
    "X = df.drop(['Loan_Status', 'Loan_ID'], axis=1)\n",
    "print(X.head())\n"
   ]
  },
  {
   "cell_type": "code",
   "execution_count": 51,
   "id": "2e139bb0-8de8-4206-ba65-a7f06185fceb",
   "metadata": {},
   "outputs": [
    {
     "data": {
      "text/plain": [
       "0      0\n",
       "1      1\n",
       "2      1\n",
       "3      1\n",
       "4      1\n",
       "      ..\n",
       "376    1\n",
       "377    1\n",
       "378    1\n",
       "379    1\n",
       "380    0\n",
       "Name: Loan_Status, Length: 381, dtype: int64"
      ]
     },
     "execution_count": 51,
     "metadata": {},
     "output_type": "execute_result"
    }
   ],
   "source": [
    "y= df['Loan_Status']\n",
    "y"
   ]
  },
  {
   "cell_type": "code",
   "execution_count": null,
   "id": "9355c7b8-98b1-4258-b0bc-19387425875f",
   "metadata": {},
   "outputs": [],
   "source": []
  },
  {
   "cell_type": "markdown",
   "id": "fe72a021-960c-42c9-acb4-b37532df1909",
   "metadata": {},
   "source": [
    "### Model Building"
   ]
  },
  {
   "cell_type": "code",
   "execution_count": null,
   "id": "2910fdd4-4fa2-4e71-a83e-61132fd3cb3a",
   "metadata": {},
   "outputs": [],
   "source": []
  },
  {
   "cell_type": "code",
   "execution_count": 49,
   "id": "7cc590f1-22ee-42dd-832f-4e45b6640291",
   "metadata": {},
   "outputs": [],
   "source": [
    "from sklearn.model_selection import train_test_split"
   ]
  },
  {
   "cell_type": "code",
   "execution_count": 54,
   "id": "668adab4-0fc3-4696-9083-c78567d80500",
   "metadata": {},
   "outputs": [
    {
     "name": "stdout",
     "output_type": "stream",
     "text": [
      "(304, 11) (77, 11)\n"
     ]
    }
   ],
   "source": [
    "X_train, X_test, y_train, y_test = train_test_split(X, y, test_size=0.2, random_state=42)\n",
    "print(X_train.shape, X_test.shape)\n"
   ]
  },
  {
   "cell_type": "code",
   "execution_count": 55,
   "id": "22a08b26-5eb3-484e-b3ad-2b483f6cd587",
   "metadata": {},
   "outputs": [],
   "source": [
    "from sklearn.linear_model import LogisticRegression"
   ]
  },
  {
   "cell_type": "code",
   "execution_count": 57,
   "id": "a4fd5434-2cf5-420c-9b25-89b7f0398087",
   "metadata": {},
   "outputs": [
    {
     "data": {
      "text/html": [
       "<style>#sk-container-id-1 {color: black;background-color: white;}#sk-container-id-1 pre{padding: 0;}#sk-container-id-1 div.sk-toggleable {background-color: white;}#sk-container-id-1 label.sk-toggleable__label {cursor: pointer;display: block;width: 100%;margin-bottom: 0;padding: 0.3em;box-sizing: border-box;text-align: center;}#sk-container-id-1 label.sk-toggleable__label-arrow:before {content: \"▸\";float: left;margin-right: 0.25em;color: #696969;}#sk-container-id-1 label.sk-toggleable__label-arrow:hover:before {color: black;}#sk-container-id-1 div.sk-estimator:hover label.sk-toggleable__label-arrow:before {color: black;}#sk-container-id-1 div.sk-toggleable__content {max-height: 0;max-width: 0;overflow: hidden;text-align: left;background-color: #f0f8ff;}#sk-container-id-1 div.sk-toggleable__content pre {margin: 0.2em;color: black;border-radius: 0.25em;background-color: #f0f8ff;}#sk-container-id-1 input.sk-toggleable__control:checked~div.sk-toggleable__content {max-height: 200px;max-width: 100%;overflow: auto;}#sk-container-id-1 input.sk-toggleable__control:checked~label.sk-toggleable__label-arrow:before {content: \"▾\";}#sk-container-id-1 div.sk-estimator input.sk-toggleable__control:checked~label.sk-toggleable__label {background-color: #d4ebff;}#sk-container-id-1 div.sk-label input.sk-toggleable__control:checked~label.sk-toggleable__label {background-color: #d4ebff;}#sk-container-id-1 input.sk-hidden--visually {border: 0;clip: rect(1px 1px 1px 1px);clip: rect(1px, 1px, 1px, 1px);height: 1px;margin: -1px;overflow: hidden;padding: 0;position: absolute;width: 1px;}#sk-container-id-1 div.sk-estimator {font-family: monospace;background-color: #f0f8ff;border: 1px dotted black;border-radius: 0.25em;box-sizing: border-box;margin-bottom: 0.5em;}#sk-container-id-1 div.sk-estimator:hover {background-color: #d4ebff;}#sk-container-id-1 div.sk-parallel-item::after {content: \"\";width: 100%;border-bottom: 1px solid gray;flex-grow: 1;}#sk-container-id-1 div.sk-label:hover label.sk-toggleable__label {background-color: #d4ebff;}#sk-container-id-1 div.sk-serial::before {content: \"\";position: absolute;border-left: 1px solid gray;box-sizing: border-box;top: 0;bottom: 0;left: 50%;z-index: 0;}#sk-container-id-1 div.sk-serial {display: flex;flex-direction: column;align-items: center;background-color: white;padding-right: 0.2em;padding-left: 0.2em;position: relative;}#sk-container-id-1 div.sk-item {position: relative;z-index: 1;}#sk-container-id-1 div.sk-parallel {display: flex;align-items: stretch;justify-content: center;background-color: white;position: relative;}#sk-container-id-1 div.sk-item::before, #sk-container-id-1 div.sk-parallel-item::before {content: \"\";position: absolute;border-left: 1px solid gray;box-sizing: border-box;top: 0;bottom: 0;left: 50%;z-index: -1;}#sk-container-id-1 div.sk-parallel-item {display: flex;flex-direction: column;z-index: 1;position: relative;background-color: white;}#sk-container-id-1 div.sk-parallel-item:first-child::after {align-self: flex-end;width: 50%;}#sk-container-id-1 div.sk-parallel-item:last-child::after {align-self: flex-start;width: 50%;}#sk-container-id-1 div.sk-parallel-item:only-child::after {width: 0;}#sk-container-id-1 div.sk-dashed-wrapped {border: 1px dashed gray;margin: 0 0.4em 0.5em 0.4em;box-sizing: border-box;padding-bottom: 0.4em;background-color: white;}#sk-container-id-1 div.sk-label label {font-family: monospace;font-weight: bold;display: inline-block;line-height: 1.2em;}#sk-container-id-1 div.sk-label-container {text-align: center;}#sk-container-id-1 div.sk-container {/* jupyter's `normalize.less` sets `[hidden] { display: none; }` but bootstrap.min.css set `[hidden] { display: none !important; }` so we also need the `!important` here to be able to override the default hidden behavior on the sphinx rendered scikit-learn.org. See: https://github.com/scikit-learn/scikit-learn/issues/21755 */display: inline-block !important;position: relative;}#sk-container-id-1 div.sk-text-repr-fallback {display: none;}</style><div id=\"sk-container-id-1\" class=\"sk-top-container\"><div class=\"sk-text-repr-fallback\"><pre>LogisticRegression()</pre><b>In a Jupyter environment, please rerun this cell to show the HTML representation or trust the notebook. <br />On GitHub, the HTML representation is unable to render, please try loading this page with nbviewer.org.</b></div><div class=\"sk-container\" hidden><div class=\"sk-item\"><div class=\"sk-estimator sk-toggleable\"><input class=\"sk-toggleable__control sk-hidden--visually\" id=\"sk-estimator-id-1\" type=\"checkbox\" checked><label for=\"sk-estimator-id-1\" class=\"sk-toggleable__label sk-toggleable__label-arrow\">LogisticRegression</label><div class=\"sk-toggleable__content\"><pre>LogisticRegression()</pre></div></div></div></div></div>"
      ],
      "text/plain": [
       "LogisticRegression()"
      ]
     },
     "execution_count": 57,
     "metadata": {},
     "output_type": "execute_result"
    }
   ],
   "source": [
    "lr=LogisticRegression()\n",
    "lr"
   ]
  },
  {
   "cell_type": "markdown",
   "id": "d982e745-c8ea-4e57-b349-19f18359b57e",
   "metadata": {},
   "source": [
    "### Prediction"
   ]
  },
  {
   "cell_type": "code",
   "execution_count": 59,
   "id": "82394d85-42fd-4d22-8c46-2aa65dd60c90",
   "metadata": {},
   "outputs": [
    {
     "name": "stderr",
     "output_type": "stream",
     "text": [
      "C:\\ProgramData\\anaconda3\\Lib\\site-packages\\sklearn\\linear_model\\_logistic.py:458: ConvergenceWarning: lbfgs failed to converge (status=1):\n",
      "STOP: TOTAL NO. of ITERATIONS REACHED LIMIT.\n",
      "\n",
      "Increase the number of iterations (max_iter) or scale the data as shown in:\n",
      "    https://scikit-learn.org/stable/modules/preprocessing.html\n",
      "Please also refer to the documentation for alternative solver options:\n",
      "    https://scikit-learn.org/stable/modules/linear_model.html#logistic-regression\n",
      "  n_iter_i = _check_optimize_result(\n"
     ]
    },
    {
     "data": {
      "text/html": [
       "<style>#sk-container-id-3 {color: black;background-color: white;}#sk-container-id-3 pre{padding: 0;}#sk-container-id-3 div.sk-toggleable {background-color: white;}#sk-container-id-3 label.sk-toggleable__label {cursor: pointer;display: block;width: 100%;margin-bottom: 0;padding: 0.3em;box-sizing: border-box;text-align: center;}#sk-container-id-3 label.sk-toggleable__label-arrow:before {content: \"▸\";float: left;margin-right: 0.25em;color: #696969;}#sk-container-id-3 label.sk-toggleable__label-arrow:hover:before {color: black;}#sk-container-id-3 div.sk-estimator:hover label.sk-toggleable__label-arrow:before {color: black;}#sk-container-id-3 div.sk-toggleable__content {max-height: 0;max-width: 0;overflow: hidden;text-align: left;background-color: #f0f8ff;}#sk-container-id-3 div.sk-toggleable__content pre {margin: 0.2em;color: black;border-radius: 0.25em;background-color: #f0f8ff;}#sk-container-id-3 input.sk-toggleable__control:checked~div.sk-toggleable__content {max-height: 200px;max-width: 100%;overflow: auto;}#sk-container-id-3 input.sk-toggleable__control:checked~label.sk-toggleable__label-arrow:before {content: \"▾\";}#sk-container-id-3 div.sk-estimator input.sk-toggleable__control:checked~label.sk-toggleable__label {background-color: #d4ebff;}#sk-container-id-3 div.sk-label input.sk-toggleable__control:checked~label.sk-toggleable__label {background-color: #d4ebff;}#sk-container-id-3 input.sk-hidden--visually {border: 0;clip: rect(1px 1px 1px 1px);clip: rect(1px, 1px, 1px, 1px);height: 1px;margin: -1px;overflow: hidden;padding: 0;position: absolute;width: 1px;}#sk-container-id-3 div.sk-estimator {font-family: monospace;background-color: #f0f8ff;border: 1px dotted black;border-radius: 0.25em;box-sizing: border-box;margin-bottom: 0.5em;}#sk-container-id-3 div.sk-estimator:hover {background-color: #d4ebff;}#sk-container-id-3 div.sk-parallel-item::after {content: \"\";width: 100%;border-bottom: 1px solid gray;flex-grow: 1;}#sk-container-id-3 div.sk-label:hover label.sk-toggleable__label {background-color: #d4ebff;}#sk-container-id-3 div.sk-serial::before {content: \"\";position: absolute;border-left: 1px solid gray;box-sizing: border-box;top: 0;bottom: 0;left: 50%;z-index: 0;}#sk-container-id-3 div.sk-serial {display: flex;flex-direction: column;align-items: center;background-color: white;padding-right: 0.2em;padding-left: 0.2em;position: relative;}#sk-container-id-3 div.sk-item {position: relative;z-index: 1;}#sk-container-id-3 div.sk-parallel {display: flex;align-items: stretch;justify-content: center;background-color: white;position: relative;}#sk-container-id-3 div.sk-item::before, #sk-container-id-3 div.sk-parallel-item::before {content: \"\";position: absolute;border-left: 1px solid gray;box-sizing: border-box;top: 0;bottom: 0;left: 50%;z-index: -1;}#sk-container-id-3 div.sk-parallel-item {display: flex;flex-direction: column;z-index: 1;position: relative;background-color: white;}#sk-container-id-3 div.sk-parallel-item:first-child::after {align-self: flex-end;width: 50%;}#sk-container-id-3 div.sk-parallel-item:last-child::after {align-self: flex-start;width: 50%;}#sk-container-id-3 div.sk-parallel-item:only-child::after {width: 0;}#sk-container-id-3 div.sk-dashed-wrapped {border: 1px dashed gray;margin: 0 0.4em 0.5em 0.4em;box-sizing: border-box;padding-bottom: 0.4em;background-color: white;}#sk-container-id-3 div.sk-label label {font-family: monospace;font-weight: bold;display: inline-block;line-height: 1.2em;}#sk-container-id-3 div.sk-label-container {text-align: center;}#sk-container-id-3 div.sk-container {/* jupyter's `normalize.less` sets `[hidden] { display: none; }` but bootstrap.min.css set `[hidden] { display: none !important; }` so we also need the `!important` here to be able to override the default hidden behavior on the sphinx rendered scikit-learn.org. See: https://github.com/scikit-learn/scikit-learn/issues/21755 */display: inline-block !important;position: relative;}#sk-container-id-3 div.sk-text-repr-fallback {display: none;}</style><div id=\"sk-container-id-3\" class=\"sk-top-container\"><div class=\"sk-text-repr-fallback\"><pre>LogisticRegression()</pre><b>In a Jupyter environment, please rerun this cell to show the HTML representation or trust the notebook. <br />On GitHub, the HTML representation is unable to render, please try loading this page with nbviewer.org.</b></div><div class=\"sk-container\" hidden><div class=\"sk-item\"><div class=\"sk-estimator sk-toggleable\"><input class=\"sk-toggleable__control sk-hidden--visually\" id=\"sk-estimator-id-3\" type=\"checkbox\" checked><label for=\"sk-estimator-id-3\" class=\"sk-toggleable__label sk-toggleable__label-arrow\">LogisticRegression</label><div class=\"sk-toggleable__content\"><pre>LogisticRegression()</pre></div></div></div></div></div>"
      ],
      "text/plain": [
       "LogisticRegression()"
      ]
     },
     "execution_count": 59,
     "metadata": {},
     "output_type": "execute_result"
    }
   ],
   "source": [
    "lr.fit(X_train,y_train)\n",
    "lr"
   ]
  },
  {
   "cell_type": "code",
   "execution_count": 62,
   "id": "de235b24-1898-4b1f-990d-9299f91c8f08",
   "metadata": {},
   "outputs": [
    {
     "data": {
      "text/plain": [
       "array([1, 1, 1, 1, 1, 1, 1, 1, 1, 1, 1, 1, 1, 1, 1, 0, 1, 1, 1, 1, 0, 1,\n",
       "       0, 1, 0, 0, 1, 1, 1, 1, 1, 1, 1, 1, 1, 1, 1, 1, 1, 1, 1, 1, 1, 1,\n",
       "       1, 1, 1, 1, 1, 1, 1, 1, 1, 1, 1, 1, 1, 1, 1, 1, 1, 1, 1, 0, 1, 1,\n",
       "       1, 0, 1, 1, 1, 1, 1, 1, 1, 1, 1], dtype=int64)"
      ]
     },
     "execution_count": 62,
     "metadata": {},
     "output_type": "execute_result"
    }
   ],
   "source": [
    "y_pred=lr.predict(X_test)\n",
    "y_pred"
   ]
  },
  {
   "cell_type": "markdown",
   "id": "e2c58790-7c45-4912-a06e-c83b2cb695b7",
   "metadata": {},
   "source": [
    "### Scoring"
   ]
  },
  {
   "cell_type": "code",
   "execution_count": 66,
   "id": "e806116a-de2f-4a10-acc9-cdfe0e7f676b",
   "metadata": {},
   "outputs": [
    {
     "data": {
      "text/plain": [
       "0.8519736842105263"
      ]
     },
     "execution_count": 66,
     "metadata": {},
     "output_type": "execute_result"
    }
   ],
   "source": [
    "lr.score(X_train, y_train)"
   ]
  },
  {
   "cell_type": "code",
   "execution_count": 67,
   "id": "8455d0da-603f-4916-aefc-25332c16a551",
   "metadata": {},
   "outputs": [
    {
     "data": {
      "text/plain": [
       "0.8181818181818182"
      ]
     },
     "execution_count": 67,
     "metadata": {},
     "output_type": "execute_result"
    }
   ],
   "source": [
    "lr.score(X_test, y_test)"
   ]
  },
  {
   "cell_type": "markdown",
   "id": "e7b13956-89f2-4475-8072-718b21d618c5",
   "metadata": {},
   "source": [
    "### Model Evaluation\n"
   ]
  },
  {
   "cell_type": "code",
   "execution_count": 68,
   "id": "d3af96b7-a108-404a-ba49-5837fac44281",
   "metadata": {},
   "outputs": [],
   "source": [
    "from sklearn.metrics import  accuracy_score, confusion_matrix"
   ]
  },
  {
   "cell_type": "code",
   "execution_count": 69,
   "id": "c0158406-8c97-46dc-b566-a2e300d0a8b2",
   "metadata": {},
   "outputs": [
    {
     "data": {
      "text/plain": [
       "0.8181818181818182"
      ]
     },
     "execution_count": 69,
     "metadata": {},
     "output_type": "execute_result"
    }
   ],
   "source": [
    "accuracy_score(y_test,y_pred)"
   ]
  },
  {
   "cell_type": "code",
   "execution_count": 70,
   "id": "b1232dd5-319f-4e0d-b715-fc773868adc0",
   "metadata": {},
   "outputs": [
    {
     "data": {
      "text/plain": [
       "array([[ 7, 14],\n",
       "       [ 0, 56]], dtype=int64)"
      ]
     },
     "execution_count": 70,
     "metadata": {},
     "output_type": "execute_result"
    }
   ],
   "source": [
    "confusion_matrix(y_test, y_pred)"
   ]
  },
  {
   "cell_type": "markdown",
   "id": "69c819cb-42b0-4318-bc74-55b8ea6d08dc",
   "metadata": {},
   "source": [
    "# Final Analysis:\n",
    "- After checking the model score and model evaluation the Machine Learning testing model is 80% accurate"
   ]
  },
  {
   "cell_type": "code",
   "execution_count": null,
   "id": "1f44e437-5d18-47c7-8c97-2ef3a37ee3c9",
   "metadata": {},
   "outputs": [],
   "source": []
  }
 ],
 "metadata": {
  "kernelspec": {
   "display_name": "Python 3 (ipykernel)",
   "language": "python",
   "name": "python3"
  },
  "language_info": {
   "codemirror_mode": {
    "name": "ipython",
    "version": 3
   },
   "file_extension": ".py",
   "mimetype": "text/x-python",
   "name": "python",
   "nbconvert_exporter": "python",
   "pygments_lexer": "ipython3",
   "version": "3.11.7"
  }
 },
 "nbformat": 4,
 "nbformat_minor": 5
}
